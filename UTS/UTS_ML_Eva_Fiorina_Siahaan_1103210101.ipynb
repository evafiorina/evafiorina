{
  "nbformat": 4,
  "nbformat_minor": 0,
  "metadata": {
    "colab": {
      "provenance": [],
      "authorship_tag": "ABX9TyM/Uxgirls94+h+nLsYD4v4",
      "include_colab_link": true
    },
    "kernelspec": {
      "name": "python3",
      "display_name": "Python 3"
    },
    "language_info": {
      "name": "python"
    }
  },
  "cells": [
    {
      "cell_type": "markdown",
      "metadata": {
        "id": "view-in-github",
        "colab_type": "text"
      },
      "source": [
        "<a href=\"https://colab.research.google.com/github/evafiorina/evafiorina/blob/main/UTS/UTS_ML_Eva_Fiorina_Siahaan_1103210101.ipynb\" target=\"_parent\"><img src=\"https://colab.research.google.com/assets/colab-badge.svg\" alt=\"Open In Colab\"/></a>"
      ]
    },
    {
      "cell_type": "markdown",
      "source": [
        "\n",
        "Nama : Eva Fiorina Siahaan\n",
        "\n",
        "NIM : 1103210101\n",
        "\n",
        "Kelas : ML (TK-44-G04)\n",
        "\n",
        "Tugas UTS Machine Learning\n",
        "\n",
        "Model : Random Forest\n",
        "\n",
        "Dataset : https://www.kaggle.com/datasets/parisrohan/credit-score-classification\n",
        "\n",
        "ChatGPT Prompt : https://chat.openai.com/c/dca9d088-0587-408b-80c7-cbf7ead271cf"
      ],
      "metadata": {
        "id": "rOxlzQXeYVfL"
      }
    },
    {
      "cell_type": "markdown",
      "source": [
        "***Connect Gdrive ke GCollab***"
      ],
      "metadata": {
        "id": "ggyvpA0AYYGf"
      }
    },
    {
      "cell_type": "code",
      "source": [
        "from google.colab import drive\n",
        "drive.mount('/content/drive')"
      ],
      "metadata": {
        "colab": {
          "base_uri": "https://localhost:8080/"
        },
        "id": "GnZszzLsYnkh",
        "outputId": "f96fa13f-d22c-4d7d-84c1-78edbe284617"
      },
      "execution_count": 36,
      "outputs": [
        {
          "output_type": "stream",
          "name": "stdout",
          "text": [
            "Drive already mounted at /content/drive; to attempt to forcibly remount, call drive.mount(\"/content/drive\", force_remount=True).\n"
          ]
        }
      ]
    },
    {
      "cell_type": "markdown",
      "source": [
        "***Import Library***"
      ],
      "metadata": {
        "id": "t9wIXHd8Yrsa"
      }
    },
    {
      "cell_type": "code",
      "source": [
        "import pandas as pd\n",
        "import numpy as np\n",
        "from sklearn.model_selection import train_test_split\n",
        "from sklearn.preprocessing import StandardScaler, LabelEncoder\n",
        "from sklearn.neighbors import KNeighborsClassifier\n",
        "from sklearn.metrics import accuracy_score, classification_report,mean_absolute_error,mean_absolute_percentage_error,mean_squared_error\n",
        "from sklearn.ensemble import RandomForestClassifier"
      ],
      "metadata": {
        "id": "jYy4gCQvYuNz"
      },
      "execution_count": 37,
      "outputs": []
    },
    {
      "cell_type": "code",
      "source": [
        "# Membaca dataset\n",
        "data_train = pd.read_csv(\"/content/drive/MyDrive/Dataset/train.csv\")\n",
        "data_test = pd.read_csv(\"/content/drive/MyDrive/Dataset/test.csv\")"
      ],
      "metadata": {
        "colab": {
          "base_uri": "https://localhost:8080/"
        },
        "id": "e-Bc70p4ZObH",
        "outputId": "200c0678-2e7c-43bb-f183-a556424ba8c5"
      },
      "execution_count": 56,
      "outputs": [
        {
          "output_type": "stream",
          "name": "stderr",
          "text": [
            "<ipython-input-56-b2a6607b19de>:2: DtypeWarning: Columns (26) have mixed types. Specify dtype option on import or set low_memory=False.\n",
            "  data_train = pd.read_csv(\"/content/drive/MyDrive/Dataset/train.csv\")\n"
          ]
        }
      ]
    },
    {
      "cell_type": "code",
      "source": [
        "print(data_train.head(5))"
      ],
      "metadata": {
        "colab": {
          "base_uri": "https://localhost:8080/"
        },
        "id": "a9zabzcebLs_",
        "outputId": "fed8f5cd-8cab-4f0d-f246-7eee6d52ad3e"
      },
      "execution_count": 39,
      "outputs": [
        {
          "output_type": "stream",
          "name": "stdout",
          "text": [
            "       ID Customer_ID     Month           Name   Age          SSN Occupation  \\\n",
            "0  0x1602   CUS_0xd40   January  Aaron Maashoh    23  821-00-0265  Scientist   \n",
            "1  0x1603   CUS_0xd40  February  Aaron Maashoh    23  821-00-0265  Scientist   \n",
            "2  0x1604   CUS_0xd40     March  Aaron Maashoh  -500  821-00-0265  Scientist   \n",
            "3  0x1605   CUS_0xd40     April  Aaron Maashoh    23  821-00-0265  Scientist   \n",
            "4  0x1606   CUS_0xd40       May  Aaron Maashoh    23  821-00-0265  Scientist   \n",
            "\n",
            "  Annual_Income  Monthly_Inhand_Salary  Num_Bank_Accounts  ...  Credit_Mix  \\\n",
            "0      19114.12            1824.843333                  3  ...           _   \n",
            "1      19114.12                    NaN                  3  ...        Good   \n",
            "2      19114.12                    NaN                  3  ...        Good   \n",
            "3      19114.12                    NaN                  3  ...        Good   \n",
            "4      19114.12            1824.843333                  3  ...        Good   \n",
            "\n",
            "   Outstanding_Debt Credit_Utilization_Ratio     Credit_History_Age  \\\n",
            "0            809.98                26.822620  22 Years and 1 Months   \n",
            "1            809.98                31.944960                    NaN   \n",
            "2            809.98                28.609352  22 Years and 3 Months   \n",
            "3            809.98                31.377862  22 Years and 4 Months   \n",
            "4            809.98                24.797347  22 Years and 5 Months   \n",
            "\n",
            "   Payment_of_Min_Amount Total_EMI_per_month Amount_invested_monthly  \\\n",
            "0                     No           49.574949       80.41529543900253   \n",
            "1                     No           49.574949      118.28022162236736   \n",
            "2                     No           49.574949         81.699521264648   \n",
            "3                     No           49.574949       199.4580743910713   \n",
            "4                     No           49.574949      41.420153086217326   \n",
            "\n",
            "                  Payment_Behaviour     Monthly_Balance Credit_Score  \n",
            "0   High_spent_Small_value_payments  312.49408867943663         Good  \n",
            "1    Low_spent_Large_value_payments  284.62916249607184         Good  \n",
            "2   Low_spent_Medium_value_payments   331.2098628537912         Good  \n",
            "3    Low_spent_Small_value_payments  223.45130972736786         Good  \n",
            "4  High_spent_Medium_value_payments  341.48923103222177         Good  \n",
            "\n",
            "[5 rows x 28 columns]\n"
          ]
        }
      ]
    },
    {
      "cell_type": "code",
      "source": [
        "print(data_test.head(5))"
      ],
      "metadata": {
        "colab": {
          "base_uri": "https://localhost:8080/"
        },
        "id": "kW8iSErCbh73",
        "outputId": "9e9fb46e-1818-49e0-da06-346884ee8b22"
      },
      "execution_count": 40,
      "outputs": [
        {
          "output_type": "stream",
          "name": "stdout",
          "text": [
            "       ID Customer_ID      Month             Name  Age          SSN  \\\n",
            "0  0x160a   CUS_0xd40  September    Aaron Maashoh   23  821-00-0265   \n",
            "1  0x160b   CUS_0xd40    October    Aaron Maashoh   24  821-00-0265   \n",
            "2  0x160c   CUS_0xd40   November    Aaron Maashoh   24  821-00-0265   \n",
            "3  0x160d   CUS_0xd40   December    Aaron Maashoh  24_  821-00-0265   \n",
            "4  0x1616  CUS_0x21b1  September  Rick Rothackerj   28  004-07-5839   \n",
            "\n",
            "  Occupation Annual_Income  Monthly_Inhand_Salary  Num_Bank_Accounts  ...  \\\n",
            "0  Scientist      19114.12            1824.843333                  3  ...   \n",
            "1  Scientist      19114.12            1824.843333                  3  ...   \n",
            "2  Scientist      19114.12            1824.843333                  3  ...   \n",
            "3  Scientist      19114.12                    NaN                  3  ...   \n",
            "4    _______      34847.84            3037.986667                  2  ...   \n",
            "\n",
            "   Num_Credit_Inquiries  Credit_Mix Outstanding_Debt Credit_Utilization_Ratio  \\\n",
            "0                2022.0        Good           809.98                35.030402   \n",
            "1                   4.0        Good           809.98                33.053114   \n",
            "2                   4.0        Good           809.98                33.811894   \n",
            "3                   4.0        Good           809.98                32.430559   \n",
            "4                   5.0        Good           605.03                25.926822   \n",
            "\n",
            "       Credit_History_Age Payment_of_Min_Amount Total_EMI_per_month  \\\n",
            "0   22 Years and 9 Months                    No           49.574949   \n",
            "1  22 Years and 10 Months                    No           49.574949   \n",
            "2                     NaN                    No           49.574949   \n",
            "3   23 Years and 0 Months                    No           49.574949   \n",
            "4   27 Years and 3 Months                    No           18.816215   \n",
            "\n",
            "   Amount_invested_monthly                 Payment_Behaviour  \\\n",
            "0       236.64268203272135    Low_spent_Small_value_payments   \n",
            "1       21.465380264657146  High_spent_Medium_value_payments   \n",
            "2       148.23393788500925   Low_spent_Medium_value_payments   \n",
            "3        39.08251089460281  High_spent_Medium_value_payments   \n",
            "4       39.684018417945296   High_spent_Large_value_payments   \n",
            "\n",
            "      Monthly_Balance  \n",
            "0  186.26670208571772  \n",
            "1  361.44400385378196  \n",
            "2  264.67544623342997  \n",
            "3  343.82687322383634  \n",
            "4   485.2984336755923  \n",
            "\n",
            "[5 rows x 27 columns]\n"
          ]
        }
      ]
    },
    {
      "cell_type": "code",
      "source": [
        "print(data_train.info())"
      ],
      "metadata": {
        "colab": {
          "base_uri": "https://localhost:8080/"
        },
        "id": "bs0VF2-ic8MG",
        "outputId": "3220c7b8-d48e-4a87-d05b-d3f105e03b86"
      },
      "execution_count": 41,
      "outputs": [
        {
          "output_type": "stream",
          "name": "stdout",
          "text": [
            "<class 'pandas.core.frame.DataFrame'>\n",
            "RangeIndex: 100000 entries, 0 to 99999\n",
            "Data columns (total 28 columns):\n",
            " #   Column                    Non-Null Count   Dtype  \n",
            "---  ------                    --------------   -----  \n",
            " 0   ID                        100000 non-null  object \n",
            " 1   Customer_ID               100000 non-null  object \n",
            " 2   Month                     100000 non-null  object \n",
            " 3   Name                      90015 non-null   object \n",
            " 4   Age                       100000 non-null  object \n",
            " 5   SSN                       100000 non-null  object \n",
            " 6   Occupation                100000 non-null  object \n",
            " 7   Annual_Income             100000 non-null  object \n",
            " 8   Monthly_Inhand_Salary     84998 non-null   float64\n",
            " 9   Num_Bank_Accounts         100000 non-null  int64  \n",
            " 10  Num_Credit_Card           100000 non-null  int64  \n",
            " 11  Interest_Rate             100000 non-null  int64  \n",
            " 12  Num_of_Loan               100000 non-null  object \n",
            " 13  Type_of_Loan              88592 non-null   object \n",
            " 14  Delay_from_due_date       100000 non-null  int64  \n",
            " 15  Num_of_Delayed_Payment    92998 non-null   object \n",
            " 16  Changed_Credit_Limit      100000 non-null  object \n",
            " 17  Num_Credit_Inquiries      98035 non-null   float64\n",
            " 18  Credit_Mix                100000 non-null  object \n",
            " 19  Outstanding_Debt          100000 non-null  object \n",
            " 20  Credit_Utilization_Ratio  100000 non-null  float64\n",
            " 21  Credit_History_Age        90970 non-null   object \n",
            " 22  Payment_of_Min_Amount     100000 non-null  object \n",
            " 23  Total_EMI_per_month       100000 non-null  float64\n",
            " 24  Amount_invested_monthly   95521 non-null   object \n",
            " 25  Payment_Behaviour         100000 non-null  object \n",
            " 26  Monthly_Balance           98800 non-null   object \n",
            " 27  Credit_Score              100000 non-null  object \n",
            "dtypes: float64(4), int64(4), object(20)\n",
            "memory usage: 21.4+ MB\n",
            "None\n"
          ]
        }
      ]
    },
    {
      "cell_type": "code",
      "source": [
        "print(data_test.info())"
      ],
      "metadata": {
        "colab": {
          "base_uri": "https://localhost:8080/"
        },
        "id": "Vu75SOcmdDLZ",
        "outputId": "9cd92d70-8d8b-4622-8660-b2369a0cc2c3"
      },
      "execution_count": 42,
      "outputs": [
        {
          "output_type": "stream",
          "name": "stdout",
          "text": [
            "<class 'pandas.core.frame.DataFrame'>\n",
            "RangeIndex: 50000 entries, 0 to 49999\n",
            "Data columns (total 27 columns):\n",
            " #   Column                    Non-Null Count  Dtype  \n",
            "---  ------                    --------------  -----  \n",
            " 0   ID                        50000 non-null  object \n",
            " 1   Customer_ID               50000 non-null  object \n",
            " 2   Month                     50000 non-null  object \n",
            " 3   Name                      44985 non-null  object \n",
            " 4   Age                       50000 non-null  object \n",
            " 5   SSN                       50000 non-null  object \n",
            " 6   Occupation                50000 non-null  object \n",
            " 7   Annual_Income             50000 non-null  object \n",
            " 8   Monthly_Inhand_Salary     42502 non-null  float64\n",
            " 9   Num_Bank_Accounts         50000 non-null  int64  \n",
            " 10  Num_Credit_Card           50000 non-null  int64  \n",
            " 11  Interest_Rate             50000 non-null  int64  \n",
            " 12  Num_of_Loan               50000 non-null  object \n",
            " 13  Type_of_Loan              44296 non-null  object \n",
            " 14  Delay_from_due_date       50000 non-null  int64  \n",
            " 15  Num_of_Delayed_Payment    46502 non-null  object \n",
            " 16  Changed_Credit_Limit      50000 non-null  object \n",
            " 17  Num_Credit_Inquiries      48965 non-null  float64\n",
            " 18  Credit_Mix                50000 non-null  object \n",
            " 19  Outstanding_Debt          50000 non-null  object \n",
            " 20  Credit_Utilization_Ratio  50000 non-null  float64\n",
            " 21  Credit_History_Age        45530 non-null  object \n",
            " 22  Payment_of_Min_Amount     50000 non-null  object \n",
            " 23  Total_EMI_per_month       50000 non-null  float64\n",
            " 24  Amount_invested_monthly   47729 non-null  object \n",
            " 25  Payment_Behaviour         50000 non-null  object \n",
            " 26  Monthly_Balance           49438 non-null  object \n",
            "dtypes: float64(4), int64(4), object(19)\n",
            "memory usage: 10.3+ MB\n",
            "None\n"
          ]
        }
      ]
    },
    {
      "cell_type": "markdown",
      "source": [
        "Hapus kolom yang tidak diperlukan"
      ],
      "metadata": {
        "id": "Y5BehQ_rdguR"
      }
    },
    {
      "cell_type": "code",
      "source": [
        "# List nama-nama kolom yang ingin dihapus\n",
        "kolom_tidak_diperlukan = ['ID', 'Customer_ID', 'Name', 'SSN', 'Credit_History_Age', 'Type_of_Loan']\n",
        "\n",
        "# Menghapus kolom yang tidak diperlukan\n",
        "data_train_cleaned = data_train.drop(columns=kolom_tidak_diperlukan)\n",
        "data_test_cleaned = data_test.drop(columns=kolom_tidak_diperlukan)\n",
        "\n",
        "# Menampilkan data train setelah menghapus kolom\n",
        "print(data_train_cleaned.head())\n",
        "print(data_train_cleaned.head())"
      ],
      "metadata": {
        "colab": {
          "base_uri": "https://localhost:8080/"
        },
        "id": "Cke1hDIpdXxu",
        "outputId": "2f6c0243-4704-4e83-82b4-cb42be3c4f9f"
      },
      "execution_count": 43,
      "outputs": [
        {
          "output_type": "stream",
          "name": "stdout",
          "text": [
            "      Month   Age Occupation Annual_Income  Monthly_Inhand_Salary  \\\n",
            "0   January    23  Scientist      19114.12            1824.843333   \n",
            "1  February    23  Scientist      19114.12                    NaN   \n",
            "2     March  -500  Scientist      19114.12                    NaN   \n",
            "3     April    23  Scientist      19114.12                    NaN   \n",
            "4       May    23  Scientist      19114.12            1824.843333   \n",
            "\n",
            "   Num_Bank_Accounts  Num_Credit_Card  Interest_Rate Num_of_Loan  \\\n",
            "0                  3                4              3           4   \n",
            "1                  3                4              3           4   \n",
            "2                  3                4              3           4   \n",
            "3                  3                4              3           4   \n",
            "4                  3                4              3           4   \n",
            "\n",
            "   Delay_from_due_date  ... Num_Credit_Inquiries Credit_Mix  Outstanding_Debt  \\\n",
            "0                    3  ...                  4.0          _            809.98   \n",
            "1                   -1  ...                  4.0       Good            809.98   \n",
            "2                    3  ...                  4.0       Good            809.98   \n",
            "3                    5  ...                  4.0       Good            809.98   \n",
            "4                    6  ...                  4.0       Good            809.98   \n",
            "\n",
            "  Credit_Utilization_Ratio Payment_of_Min_Amount  Total_EMI_per_month  \\\n",
            "0                26.822620                    No            49.574949   \n",
            "1                31.944960                    No            49.574949   \n",
            "2                28.609352                    No            49.574949   \n",
            "3                31.377862                    No            49.574949   \n",
            "4                24.797347                    No            49.574949   \n",
            "\n",
            "  Amount_invested_monthly                 Payment_Behaviour  \\\n",
            "0       80.41529543900253   High_spent_Small_value_payments   \n",
            "1      118.28022162236736    Low_spent_Large_value_payments   \n",
            "2         81.699521264648   Low_spent_Medium_value_payments   \n",
            "3       199.4580743910713    Low_spent_Small_value_payments   \n",
            "4      41.420153086217326  High_spent_Medium_value_payments   \n",
            "\n",
            "      Monthly_Balance Credit_Score  \n",
            "0  312.49408867943663         Good  \n",
            "1  284.62916249607184         Good  \n",
            "2   331.2098628537912         Good  \n",
            "3  223.45130972736786         Good  \n",
            "4  341.48923103222177         Good  \n",
            "\n",
            "[5 rows x 22 columns]\n",
            "      Month   Age Occupation Annual_Income  Monthly_Inhand_Salary  \\\n",
            "0   January    23  Scientist      19114.12            1824.843333   \n",
            "1  February    23  Scientist      19114.12                    NaN   \n",
            "2     March  -500  Scientist      19114.12                    NaN   \n",
            "3     April    23  Scientist      19114.12                    NaN   \n",
            "4       May    23  Scientist      19114.12            1824.843333   \n",
            "\n",
            "   Num_Bank_Accounts  Num_Credit_Card  Interest_Rate Num_of_Loan  \\\n",
            "0                  3                4              3           4   \n",
            "1                  3                4              3           4   \n",
            "2                  3                4              3           4   \n",
            "3                  3                4              3           4   \n",
            "4                  3                4              3           4   \n",
            "\n",
            "   Delay_from_due_date  ... Num_Credit_Inquiries Credit_Mix  Outstanding_Debt  \\\n",
            "0                    3  ...                  4.0          _            809.98   \n",
            "1                   -1  ...                  4.0       Good            809.98   \n",
            "2                    3  ...                  4.0       Good            809.98   \n",
            "3                    5  ...                  4.0       Good            809.98   \n",
            "4                    6  ...                  4.0       Good            809.98   \n",
            "\n",
            "  Credit_Utilization_Ratio Payment_of_Min_Amount  Total_EMI_per_month  \\\n",
            "0                26.822620                    No            49.574949   \n",
            "1                31.944960                    No            49.574949   \n",
            "2                28.609352                    No            49.574949   \n",
            "3                31.377862                    No            49.574949   \n",
            "4                24.797347                    No            49.574949   \n",
            "\n",
            "  Amount_invested_monthly                 Payment_Behaviour  \\\n",
            "0       80.41529543900253   High_spent_Small_value_payments   \n",
            "1      118.28022162236736    Low_spent_Large_value_payments   \n",
            "2         81.699521264648   Low_spent_Medium_value_payments   \n",
            "3       199.4580743910713    Low_spent_Small_value_payments   \n",
            "4      41.420153086217326  High_spent_Medium_value_payments   \n",
            "\n",
            "      Monthly_Balance Credit_Score  \n",
            "0  312.49408867943663         Good  \n",
            "1  284.62916249607184         Good  \n",
            "2   331.2098628537912         Good  \n",
            "3  223.45130972736786         Good  \n",
            "4  341.48923103222177         Good  \n",
            "\n",
            "[5 rows x 22 columns]\n"
          ]
        }
      ]
    },
    {
      "cell_type": "code",
      "source": [
        "# Mendeskripsikan data di dalam DataFrame\n",
        "deskripsi = data_train.describe()\n",
        "deskripsi = data_test.describe()\n",
        "\n",
        "# Menampilkan ringkasan statistik deskriptif\n",
        "print(deskripsi)"
      ],
      "metadata": {
        "colab": {
          "base_uri": "https://localhost:8080/"
        },
        "id": "-G-whd2sepaB",
        "outputId": "17559cac-aa46-4020-fa77-9da17bb8d78b"
      },
      "execution_count": 44,
      "outputs": [
        {
          "output_type": "stream",
          "name": "stdout",
          "text": [
            "       Monthly_Inhand_Salary  Num_Bank_Accounts  Num_Credit_Card  \\\n",
            "count           42502.000000       50000.000000     50000.000000   \n",
            "mean             4182.004291          16.838260        22.921480   \n",
            "std              3174.109304         116.396848       129.314804   \n",
            "min               303.645417          -1.000000         0.000000   \n",
            "25%              1625.188333           3.000000         4.000000   \n",
            "50%              3086.305000           6.000000         5.000000   \n",
            "75%              5934.189094           7.000000         7.000000   \n",
            "max             15204.633333        1798.000000      1499.000000   \n",
            "\n",
            "       Interest_Rate  Delay_from_due_date  Num_Credit_Inquiries  \\\n",
            "count   50000.000000         50000.000000          48965.000000   \n",
            "mean       68.772640            21.052640             30.080200   \n",
            "std       451.602363            14.860397            196.984121   \n",
            "min         1.000000            -5.000000              0.000000   \n",
            "25%         8.000000            10.000000              4.000000   \n",
            "50%        13.000000            18.000000              7.000000   \n",
            "75%        20.000000            28.000000             10.000000   \n",
            "max      5799.000000            67.000000           2593.000000   \n",
            "\n",
            "       Credit_Utilization_Ratio  Total_EMI_per_month  \n",
            "count              50000.000000         50000.000000  \n",
            "mean                  32.279581          1491.304305  \n",
            "std                    5.106238          8595.647887  \n",
            "min                   20.509652             0.000000  \n",
            "25%                   28.061040            32.222388  \n",
            "50%                   32.280390            74.733349  \n",
            "75%                   36.468591           176.157491  \n",
            "max                   48.540663         82398.000000  \n"
          ]
        }
      ]
    },
    {
      "cell_type": "code",
      "source": [
        "# Mencetak frekuensi kemunculan nilai dalam kolom 'Monthly_Balance' dari data train\n",
        "print(\"Frekuensi kemunculan nilai dalam kolom 'Monthly_Balance' dari data train:\")\n",
        "print(data_train['Monthly_Balance'].value_counts())\n",
        "\n",
        "# Mencetak frekuensi kemunculan nilai dalam kolom 'Monthly_Balance' dari data test\n",
        "print(\"\\nFrekuensi kemunculan nilai dalam kolom 'Monthly_Balance' dari data test:\")\n",
        "print(data_test['Monthly_Balance'].value_counts())"
      ],
      "metadata": {
        "colab": {
          "base_uri": "https://localhost:8080/"
        },
        "id": "Nsg4nxHofRxj",
        "outputId": "74a04451-9a8f-4841-f485-30af15989339"
      },
      "execution_count": 45,
      "outputs": [
        {
          "output_type": "stream",
          "name": "stdout",
          "text": [
            "Frekuensi kemunculan nilai dalam kolom 'Monthly_Balance' dari data train:\n",
            "Monthly_Balance\n",
            "__-333333333333333333333333333__    9\n",
            "312.49408867943663                  1\n",
            "415.32532309844316                  1\n",
            "252.08489793906085                  1\n",
            "254.9709216273975                   1\n",
            "                                   ..\n",
            "366.2890379762706                   1\n",
            "151.1882696261166                   1\n",
            "306.75027851710234                  1\n",
            "278.8720257394474                   1\n",
            "393.6736955618808                   1\n",
            "Name: count, Length: 98792, dtype: int64\n",
            "\n",
            "Frekuensi kemunculan nilai dalam kolom 'Monthly_Balance' dari data test:\n",
            "Monthly_Balance\n",
            "__-333333333333333333333333333__    6\n",
            "186.26670208571772                  1\n",
            "223.40782977501067                  1\n",
            "305.43786598764547                  1\n",
            "389.53754307843735                  1\n",
            "                                   ..\n",
            "421.25686767906984                  1\n",
            "194.44026842190848                  1\n",
            "299.957837924029                    1\n",
            "375.897928536186                    1\n",
            "360.37968260123847                  1\n",
            "Name: count, Length: 49433, dtype: int64\n"
          ]
        }
      ]
    },
    {
      "cell_type": "markdown",
      "source": [
        "***Pre Proses***"
      ],
      "metadata": {
        "id": "FnA33rgRgBAY"
      }
    },
    {
      "cell_type": "code",
      "source": [
        "# Menghapus semua underscore dari setiap elemen dalam kolom 'Monthly_Balance' dari data train\n",
        "data_train['Monthly_Balance'] = data_train['Monthly_Balance'].str.replace('_', '')\n",
        "\n",
        "# Menghapus semua underscore dari setiap elemen dalam kolom 'Monthly_Balance' dari data test\n",
        "data_test['Monthly_Balance'] = data_test['Monthly_Balance'].str.replace('_', '')\n",
        "\n",
        "# Menampilkan beberapa baris pertama data train setelah menghapus underscore\n",
        "print(\"Data Train setelah penghapusan underscore:\")\n",
        "print(data_train.head())\n",
        "\n",
        "# Menampilkan beberapa baris pertama data test setelah menghapus underscore\n",
        "print(\"\\nData Test setelah penghapusan underscore:\")\n",
        "print(data_test.head())"
      ],
      "metadata": {
        "colab": {
          "base_uri": "https://localhost:8080/"
        },
        "id": "QzIjq6_Qf0t3",
        "outputId": "8f00d227-29e3-424c-a0d4-bb0f5caf112c"
      },
      "execution_count": 46,
      "outputs": [
        {
          "output_type": "stream",
          "name": "stdout",
          "text": [
            "Data Train setelah penghapusan underscore:\n",
            "       ID Customer_ID     Month           Name   Age          SSN Occupation  \\\n",
            "0  0x1602   CUS_0xd40   January  Aaron Maashoh    23  821-00-0265  Scientist   \n",
            "1  0x1603   CUS_0xd40  February  Aaron Maashoh    23  821-00-0265  Scientist   \n",
            "2  0x1604   CUS_0xd40     March  Aaron Maashoh  -500  821-00-0265  Scientist   \n",
            "3  0x1605   CUS_0xd40     April  Aaron Maashoh    23  821-00-0265  Scientist   \n",
            "4  0x1606   CUS_0xd40       May  Aaron Maashoh    23  821-00-0265  Scientist   \n",
            "\n",
            "  Annual_Income  Monthly_Inhand_Salary  Num_Bank_Accounts  ...  Credit_Mix  \\\n",
            "0      19114.12            1824.843333                  3  ...           _   \n",
            "1      19114.12                    NaN                  3  ...        Good   \n",
            "2      19114.12                    NaN                  3  ...        Good   \n",
            "3      19114.12                    NaN                  3  ...        Good   \n",
            "4      19114.12            1824.843333                  3  ...        Good   \n",
            "\n",
            "   Outstanding_Debt Credit_Utilization_Ratio     Credit_History_Age  \\\n",
            "0            809.98                26.822620  22 Years and 1 Months   \n",
            "1            809.98                31.944960                    NaN   \n",
            "2            809.98                28.609352  22 Years and 3 Months   \n",
            "3            809.98                31.377862  22 Years and 4 Months   \n",
            "4            809.98                24.797347  22 Years and 5 Months   \n",
            "\n",
            "   Payment_of_Min_Amount Total_EMI_per_month Amount_invested_monthly  \\\n",
            "0                     No           49.574949       80.41529543900253   \n",
            "1                     No           49.574949      118.28022162236736   \n",
            "2                     No           49.574949         81.699521264648   \n",
            "3                     No           49.574949       199.4580743910713   \n",
            "4                     No           49.574949      41.420153086217326   \n",
            "\n",
            "                  Payment_Behaviour     Monthly_Balance Credit_Score  \n",
            "0   High_spent_Small_value_payments  312.49408867943663         Good  \n",
            "1    Low_spent_Large_value_payments  284.62916249607184         Good  \n",
            "2   Low_spent_Medium_value_payments   331.2098628537912         Good  \n",
            "3    Low_spent_Small_value_payments  223.45130972736786         Good  \n",
            "4  High_spent_Medium_value_payments  341.48923103222177         Good  \n",
            "\n",
            "[5 rows x 28 columns]\n",
            "\n",
            "Data Test setelah penghapusan underscore:\n",
            "       ID Customer_ID      Month             Name  Age          SSN  \\\n",
            "0  0x160a   CUS_0xd40  September    Aaron Maashoh   23  821-00-0265   \n",
            "1  0x160b   CUS_0xd40    October    Aaron Maashoh   24  821-00-0265   \n",
            "2  0x160c   CUS_0xd40   November    Aaron Maashoh   24  821-00-0265   \n",
            "3  0x160d   CUS_0xd40   December    Aaron Maashoh  24_  821-00-0265   \n",
            "4  0x1616  CUS_0x21b1  September  Rick Rothackerj   28  004-07-5839   \n",
            "\n",
            "  Occupation Annual_Income  Monthly_Inhand_Salary  Num_Bank_Accounts  ...  \\\n",
            "0  Scientist      19114.12            1824.843333                  3  ...   \n",
            "1  Scientist      19114.12            1824.843333                  3  ...   \n",
            "2  Scientist      19114.12            1824.843333                  3  ...   \n",
            "3  Scientist      19114.12                    NaN                  3  ...   \n",
            "4    _______      34847.84            3037.986667                  2  ...   \n",
            "\n",
            "   Num_Credit_Inquiries  Credit_Mix Outstanding_Debt Credit_Utilization_Ratio  \\\n",
            "0                2022.0        Good           809.98                35.030402   \n",
            "1                   4.0        Good           809.98                33.053114   \n",
            "2                   4.0        Good           809.98                33.811894   \n",
            "3                   4.0        Good           809.98                32.430559   \n",
            "4                   5.0        Good           605.03                25.926822   \n",
            "\n",
            "       Credit_History_Age Payment_of_Min_Amount Total_EMI_per_month  \\\n",
            "0   22 Years and 9 Months                    No           49.574949   \n",
            "1  22 Years and 10 Months                    No           49.574949   \n",
            "2                     NaN                    No           49.574949   \n",
            "3   23 Years and 0 Months                    No           49.574949   \n",
            "4   27 Years and 3 Months                    No           18.816215   \n",
            "\n",
            "   Amount_invested_monthly                 Payment_Behaviour  \\\n",
            "0       236.64268203272135    Low_spent_Small_value_payments   \n",
            "1       21.465380264657146  High_spent_Medium_value_payments   \n",
            "2       148.23393788500925   Low_spent_Medium_value_payments   \n",
            "3        39.08251089460281  High_spent_Medium_value_payments   \n",
            "4       39.684018417945296   High_spent_Large_value_payments   \n",
            "\n",
            "      Monthly_Balance  \n",
            "0  186.26670208571772  \n",
            "1  361.44400385378196  \n",
            "2  264.67544623342997  \n",
            "3  343.82687322383634  \n",
            "4   485.2984336755923  \n",
            "\n",
            "[5 rows x 27 columns]\n"
          ]
        }
      ]
    },
    {
      "cell_type": "markdown",
      "source": [
        "Encoding\n",
        "Encoding variabel kategorikal ke dalam representasi numerik diperlukan untuk banyak algoritma Machine Learning. Teknik encoding umum meliputi one -hot encoding, label encoding dan ordinal encoding."
      ],
      "metadata": {
        "id": "S3_M2KC19ncn"
      }
    },
    {
      "cell_type": "code",
      "source": [
        "# Inisialisasi LabelEncoder\n",
        "label_encoder = LabelEncoder()\n",
        "\n",
        "# Mengkodekan variabel kategorikal dalam data train\n",
        "for column in data_train.select_dtypes(include=['object']).columns:\n",
        "    data_train[column] = label_encoder.fit_transform(data_train[column])\n",
        "\n",
        "# Mengkodekan variabel kategorikal dalam data test\n",
        "for column in data_test.select_dtypes(include=['object']).columns:\n",
        "    data_test[column] = label_encoder.fit_transform(data_test[column])\n",
        "\n",
        "# Menampilkan beberapa baris pertama data train setelah encoding\n",
        "print(\"Data Train setelah encoding:\")\n",
        "print(data_train.head())\n",
        "\n",
        "# Menampilkan beberapa baris pertama data test setelah encoding\n",
        "print(\"\\nData Test setelah encoding:\")\n",
        "print(data_test.head())"
      ],
      "metadata": {
        "colab": {
          "base_uri": "https://localhost:8080/"
        },
        "id": "BeMNS3_Bghj-",
        "outputId": "cafdeda7-aef7-4aa2-cb5d-4348e183f983"
      },
      "execution_count": 47,
      "outputs": [
        {
          "output_type": "stream",
          "name": "stdout",
          "text": [
            "Data Train setelah encoding:\n",
            "      ID  Customer_ID  Month  Name  Age    SSN  Occupation  Annual_Income  \\\n",
            "0  16406        12320      3    84  308  10205          12           6011   \n",
            "1  16417        12320      2    84  308  10205          12           6011   \n",
            "2  16428        12320      6    84    0  10205          12           6011   \n",
            "3  16441        12320      0    84  308  10205          12           6011   \n",
            "4  16452        12320      7    84  308  10205          12           6011   \n",
            "\n",
            "   Monthly_Inhand_Salary  Num_Bank_Accounts  ...  Credit_Mix  \\\n",
            "0            1824.843333                  3  ...           3   \n",
            "1                    NaN                  3  ...           1   \n",
            "2                    NaN                  3  ...           1   \n",
            "3                    NaN                  3  ...           1   \n",
            "4            1824.843333                  3  ...           1   \n",
            "\n",
            "   Outstanding_Debt  Credit_Utilization_Ratio  Credit_History_Age  \\\n",
            "0             12062                 26.822620                 180   \n",
            "1             12062                 31.944960                 404   \n",
            "2             12062                 28.609352                 184   \n",
            "3             12062                 31.377862                 185   \n",
            "4             12062                 24.797347                 186   \n",
            "\n",
            "   Payment_of_Min_Amount  Total_EMI_per_month  Amount_invested_monthly  \\\n",
            "0                      1            49.574949                    81513   \n",
            "1                      1            49.574949                     7661   \n",
            "2                      1            49.574949                    82226   \n",
            "3                      1            49.574949                    30358   \n",
            "4                      1            49.574949                    55363   \n",
            "\n",
            "   Payment_Behaviour  Monthly_Balance  Credit_Score  \n",
            "0                  3            41747             0  \n",
            "1                  4            31026             0  \n",
            "2                  5            47898             0  \n",
            "3                  6            11400             0  \n",
            "4                  2            51030             0  \n",
            "\n",
            "[5 rows x 28 columns]\n",
            "\n",
            "Data Test setelah encoding:\n",
            "     ID  Customer_ID  Month  Name  Age    SSN  Occupation  Annual_Income  \\\n",
            "0  8246        12320      3    84  156  10205          12           5060   \n",
            "1  8251        12320      2    84  171  10205          12           5060   \n",
            "2  8258        12320      1    84  171  10205          12           5060   \n",
            "3  8265        12320      0    84  183  10205          12           5060   \n",
            "4  8314         1066      3  7491  225     53          15           8715   \n",
            "\n",
            "   Monthly_Inhand_Salary  Num_Bank_Accounts  ...  Num_Credit_Inquiries  \\\n",
            "0            1824.843333                  3  ...                2022.0   \n",
            "1            1824.843333                  3  ...                   4.0   \n",
            "2            1824.843333                  3  ...                   4.0   \n",
            "3                    NaN                  3  ...                   4.0   \n",
            "4            3037.986667                  2  ...                   5.0   \n",
            "\n",
            "   Credit_Mix  Outstanding_Debt  Credit_Utilization_Ratio  Credit_History_Age  \\\n",
            "0           1             11620                 35.030402                 181   \n",
            "1           1             11620                 33.053114                 172   \n",
            "2           1             11620                 33.811894                 399   \n",
            "3           1             11620                 32.430559                 182   \n",
            "4           1             10414                 25.926822                 235   \n",
            "\n",
            "   Payment_of_Min_Amount  Total_EMI_per_month  Amount_invested_monthly  \\\n",
            "0                      1            49.574949                    18263   \n",
            "1                      1            49.574949                    16074   \n",
            "2                      1            49.574949                     8905   \n",
            "3                      1            49.574949                    26741   \n",
            "4                      1            18.816215                    26848   \n",
            "\n",
            "   Payment_Behaviour  Monthly_Balance  \n",
            "0                  6             3304  \n",
            "1                  2            28581  \n",
            "2                  5            11697  \n",
            "3                  2            26182  \n",
            "4                  1            38451  \n",
            "\n",
            "[5 rows x 27 columns]\n"
          ]
        }
      ]
    },
    {
      "cell_type": "code",
      "source": [
        "# Menghapus baris-baris yang memiliki nilai yang hilang pada data train dan data test\n",
        "data_train = data_train.dropna()\n",
        "data_test = data_test.dropna()\n",
        "\n",
        "# Menghapus nilai yang tidak valid atau negatif pada data train\n",
        "data_train = data_train.applymap(lambda x: x if np.issubdtype(type(x), np.number) and x > 0 else np.nan)\n",
        "\n",
        "# Menghapus nilai yang tidak valid atau negatif pada data test\n",
        "data_test = data_test.applymap(lambda x: x if np.issubdtype(type(x), np.number) and x > 0 else np.nan)\n",
        "\n",
        "# Menghapus baris-baris yang memiliki nilai yang hilang setelah pemeriksaan\n",
        "data_train = data_train.dropna()\n",
        "data_test = data_test.dropna()\n",
        "\n",
        "# Menampilkan beberapa baris pertama data train setelah pembersihan\n",
        "print(\"Data Train setelah pembersihan:\")\n",
        "print(data_train.head())\n",
        "\n",
        "# Menampilkan beberapa baris pertama data test setelah pembersihan\n",
        "print(\"\\nData Test setelah pembersihan:\")\n",
        "print(data_test.head())"
      ],
      "metadata": {
        "colab": {
          "base_uri": "https://localhost:8080/"
        },
        "id": "ZijUiO-IhIqD",
        "outputId": "b0449bf1-0123-4536-dff5-78c41a43fee4"
      },
      "execution_count": 48,
      "outputs": [
        {
          "output_type": "stream",
          "name": "stdout",
          "text": [
            "Data Train setelah pembersihan:\n",
            "         ID  Customer_ID  Month     Name     Age     SSN  Occupation  \\\n",
            "8   16542.0       1066.0    3.0   7491.0   450.0    53.0        15.0   \n",
            "22  16748.0       1885.0    4.0  10139.0   555.0  6099.0         4.0   \n",
            "23  16759.0       1885.0    1.0   4940.0   555.0  6099.0         4.0   \n",
            "25  16825.0      11310.0    2.0   3840.0  1011.0   921.0         5.0   \n",
            "28  16860.0      11310.0    7.0   3840.0  1034.0   921.0         5.0   \n",
            "\n",
            "    Annual_Income  Monthly_Inhand_Salary  Num_Bank_Accounts  ...  Credit_Mix  \\\n",
            "8           10300            3037.986667                2.0  ...         1.0   \n",
            "22           2755           12187.220000                1.0  ...         1.0   \n",
            "23           2755           12187.220000                1.0  ...         1.0   \n",
            "25           9030            2612.490833                2.0  ...         1.0   \n",
            "28           9030            2612.490833                2.0  ...         1.0   \n",
            "\n",
            "    Outstanding_Debt  Credit_Utilization_Ratio  Credit_History_Age  \\\n",
            "8            10796.0                 24.464031               236.0   \n",
            "22            2066.0                 38.068624               124.0   \n",
            "23            2066.0                 38.374753               125.0   \n",
            "25           10948.0                 35.279982               113.0   \n",
            "28           10948.0                 41.154317               116.0   \n",
            "\n",
            "    Payment_of_Min_Amount  Total_EMI_per_month  Amount_invested_monthly  \\\n",
            "8                     1.0            18.816215                   1916.0   \n",
            "22                    1.0           246.992319                  40567.0   \n",
            "23                    1.0           246.992319                  91048.0   \n",
            "25                    1.0            16.415452                  10262.0   \n",
            "28                    1.0            16.415452                  91048.0   \n",
            "\n",
            "    Payment_Behaviour  Monthly_Balance  Credit_Score  \n",
            "8                 6.0          74170.0           2.0  \n",
            "22                3.0          96561.0           2.0  \n",
            "23                3.0          95075.0           2.0  \n",
            "25                6.0          65688.0           2.0  \n",
            "28                4.0          55615.0           2.0  \n",
            "\n",
            "[5 rows x 28 columns]\n",
            "\n",
            "Data Test setelah pembersihan:\n",
            "       ID  Customer_ID  Month    Name    Age      SSN  Occupation  \\\n",
            "0  8246.0      12320.0    3.0    84.0  156.0  10205.0        12.0   \n",
            "1  8251.0      12320.0    2.0    84.0  171.0  10205.0        12.0   \n",
            "4  8314.0       1066.0    3.0  7491.0  225.0     53.0        15.0   \n",
            "6  8326.0       1066.0    1.0  7491.0  225.0     53.0        13.0   \n",
            "9  8387.0       1885.0    2.0  4940.0  335.0   6099.0         4.0   \n",
            "\n",
            "   Annual_Income  Monthly_Inhand_Salary  Num_Bank_Accounts  ...  \\\n",
            "0         5060.0            1824.843333                3.0  ...   \n",
            "1         5060.0            1824.843333                3.0  ...   \n",
            "4         8715.0            3037.986667                2.0  ...   \n",
            "6         8715.0            3037.986667                2.0  ...   \n",
            "9         2359.0           12187.220000                1.0  ...   \n",
            "\n",
            "   Num_Credit_Inquiries  Credit_Mix  Outstanding_Debt  \\\n",
            "0                2022.0         1.0           11620.0   \n",
            "1                   4.0         1.0           11620.0   \n",
            "4                   5.0         1.0           10414.0   \n",
            "6                   5.0         3.0           10414.0   \n",
            "9                   3.0         1.0            1977.0   \n",
            "\n",
            "   Credit_Utilization_Ratio  Credit_History_Age  Payment_of_Min_Amount  \\\n",
            "0                 35.030402               181.0                    1.0   \n",
            "1                 33.053114               172.0                    1.0   \n",
            "4                 25.926822               235.0                    1.0   \n",
            "6                 30.996424               237.0                    1.0   \n",
            "9                 35.685836               118.0                    1.0   \n",
            "\n",
            "   Total_EMI_per_month  Amount_invested_monthly  Payment_Behaviour  \\\n",
            "0            49.574949                  18263.0                6.0   \n",
            "1            49.574949                  16074.0                2.0   \n",
            "4            18.816215                  26848.0                1.0   \n",
            "6            18.816215                  38482.0                1.0   \n",
            "9           246.992319                  29399.0                4.0   \n",
            "\n",
            "   Monthly_Balance  \n",
            "0           3304.0  \n",
            "1          28581.0  \n",
            "4          38451.0  \n",
            "6          36525.0  \n",
            "9          46807.0  \n",
            "\n",
            "[5 rows x 27 columns]\n"
          ]
        }
      ]
    },
    {
      "cell_type": "code",
      "source": [
        "#menghitung kuartils\n",
        "quartiles1 = data_test.quantile([0.25, 0.75])\n",
        "quartiles2 = data_train.quantile([0.25, 0.75])"
      ],
      "metadata": {
        "id": "fi3BeENIh1w9"
      },
      "execution_count": 49,
      "outputs": []
    },
    {
      "cell_type": "code",
      "source": [
        "#menghitung antarkuartils\n",
        "IQR1 = quartiles1.loc[0.75] - quartiles1.loc[0.25]\n",
        "IQR2 = quartiles2.loc[0.75] - quartiles2.loc[0.25]"
      ],
      "metadata": {
        "id": "8rKiNPgbiLmv"
      },
      "execution_count": 50,
      "outputs": []
    },
    {
      "cell_type": "code",
      "source": [
        "# Menghitung kuartil pertama (Q1) dan kuartil ketiga (Q3) untuk data train\n",
        "quartiles_train = data_train.quantile([0.25, 0.75])\n",
        "Q1_train = quartiles_train.loc[0.25]\n",
        "Q3_train = quartiles_train.loc[0.75]\n",
        "\n",
        "# Menghitung kuartil pertama (Q1) dan kuartil ketiga (Q3) untuk data test\n",
        "quartiles_test = data_test.quantile([0.25, 0.75])\n",
        "Q1_test = quartiles_test.loc[0.25]\n",
        "Q3_test = quartiles_test.loc[0.75]\n",
        "\n",
        "# Menghitung Interquartile Range (IQR) untuk data train dan data test\n",
        "IQR_train = Q3_train - Q1_train\n",
        "IQR_test = Q3_test - Q1_test\n",
        "\n",
        "# Menghitung batas bawah dan batas atas untuk deteksi outlier untuk data train dan data test\n",
        "lower_bound_train = Q1_train - 1.5 * IQR_train\n",
        "upper_bound_train = Q3_train + 1.5 * IQR_train\n",
        "\n",
        "lower_bound_test = Q1_test - 1.5 * IQR_test\n",
        "upper_bound_test = Q3_test + 1.5 * IQR_test\n",
        "\n",
        "# Menampilkan batas bawah dan batas atas untuk deteksi outlier untuk data train\n",
        "print(\"Batas bawah untuk deteksi outlier (Data Train):\")\n",
        "print(lower_bound_train)\n",
        "print(\"\\nBatas atas untuk deteksi outlier (Data Train):\")\n",
        "print(upper_bound_train)\n",
        "\n",
        "# Menampilkan batas bawah dan batas atas untuk deteksi outlier untuk data test\n",
        "print(\"\\nBatas bawah untuk deteksi outlier (Data Test):\")\n",
        "print(lower_bound_test)\n",
        "print(\"\\nBatas atas untuk deteksi outlier (Data Test):\")\n",
        "print(upper_bound_test)"
      ],
      "metadata": {
        "colab": {
          "base_uri": "https://localhost:8080/"
        },
        "id": "X56M-ps8idK-",
        "outputId": "52b1e4f2-ce92-4e1c-f547-c93337d2ae86"
      },
      "execution_count": 51,
      "outputs": [
        {
          "output_type": "stream",
          "name": "stdout",
          "text": [
            "Batas bawah untuk deteksi outlier (Data Train):\n",
            "ID                         -49942.000000\n",
            "Customer_ID                 -6191.000000\n",
            "Month                          -4.000000\n",
            "Name                        -5597.000000\n",
            "Age                          -237.000000\n",
            "SSN                         -6386.000000\n",
            "Occupation                     -8.000000\n",
            "Annual_Income               -9257.875000\n",
            "Monthly_Inhand_Salary       -4640.780000\n",
            "Num_Bank_Accounts              -0.500000\n",
            "Num_Credit_Card                -0.500000\n",
            "Interest_Rate                 -10.000000\n",
            "Num_of_Loan                    24.000000\n",
            "Type_of_Loan                -3285.000000\n",
            "Delay_from_due_date           -11.500000\n",
            "Num_of_Delayed_Payment       -455.500000\n",
            "Changed_Credit_Limit        -2472.000000\n",
            "Num_Credit_Inquiries           -2.000000\n",
            "Credit_Mix                      0.500000\n",
            "Outstanding_Debt            -7264.500000\n",
            "Credit_Utilization_Ratio       15.507624\n",
            "Credit_History_Age           -219.000000\n",
            "Payment_of_Min_Amount          -0.500000\n",
            "Total_EMI_per_month          -148.111766\n",
            "Amount_invested_monthly    -48977.750000\n",
            "Payment_Behaviour              -4.000000\n",
            "Monthly_Balance            -45599.375000\n",
            "Credit_Score                   -0.500000\n",
            "dtype: float64\n",
            "\n",
            "Batas atas untuk deteksi outlier (Data Train):\n",
            "ID                          150248.000000\n",
            "Customer_ID                  18633.000000\n",
            "Month                           12.000000\n",
            "Name                         16875.000000\n",
            "Age                           1299.000000\n",
            "SSN                          18870.000000\n",
            "Occupation                      24.000000\n",
            "Annual_Income                28353.125000\n",
            "Monthly_Inhand_Salary        12049.460000\n",
            "Num_Bank_Accounts               11.500000\n",
            "Num_Credit_Card                 11.500000\n",
            "Interest_Rate                   38.000000\n",
            "Num_of_Loan                    424.000000\n",
            "Type_of_Loan                  9763.000000\n",
            "Delay_from_due_date             48.500000\n",
            "Num_of_Delayed_Payment         924.500000\n",
            "Changed_Credit_Limit          7776.000000\n",
            "Num_Credit_Inquiries            14.000000\n",
            "Credit_Mix                       4.500000\n",
            "Outstanding_Debt             20315.500000\n",
            "Credit_Utilization_Ratio        48.959451\n",
            "Credit_History_Age             645.000000\n",
            "Payment_of_Min_Amount            3.500000\n",
            "Total_EMI_per_month            351.570304\n",
            "Amount_invested_monthly     148860.250000\n",
            "Payment_Behaviour               12.000000\n",
            "Monthly_Balance             146211.625000\n",
            "Credit_Score                     3.500000\n",
            "dtype: float64\n",
            "\n",
            "Batas bawah untuk deteksi outlier (Data Test):\n",
            "ID                         -24873.500000\n",
            "Customer_ID                 -6398.000000\n",
            "Month                          -2.000000\n",
            "Name                        -5491.500000\n",
            "Age                          -182.000000\n",
            "SSN                         -6278.500000\n",
            "Occupation                     -8.000000\n",
            "Annual_Income               -7946.500000\n",
            "Monthly_Inhand_Salary       -4911.244583\n",
            "Num_Bank_Accounts              -3.000000\n",
            "Num_Credit_Card                -0.500000\n",
            "Interest_Rate                  -9.500000\n",
            "Num_of_Loan                    45.000000\n",
            "Type_of_Loan                -3335.000000\n",
            "Delay_from_due_date           -12.500000\n",
            "Num_of_Delayed_Payment       -445.000000\n",
            "Changed_Credit_Limit        -2492.000000\n",
            "Num_Credit_Inquiries           -3.500000\n",
            "Credit_Mix                      0.500000\n",
            "Outstanding_Debt            -8019.500000\n",
            "Credit_Utilization_Ratio       15.443882\n",
            "Credit_History_Age           -188.000000\n",
            "Payment_of_Min_Amount          -0.500000\n",
            "Total_EMI_per_month          -169.286658\n",
            "Amount_invested_monthly    -24736.500000\n",
            "Payment_Behaviour              -4.000000\n",
            "Monthly_Balance            -21902.500000\n",
            "dtype: float64\n",
            "\n",
            "Batas atas untuk deteksi outlier (Data Test):\n",
            "ID                          74826.500000\n",
            "Customer_ID                 18826.000000\n",
            "Month                           6.000000\n",
            "Name                        16848.500000\n",
            "Age                           794.000000\n",
            "SSN                         18765.500000\n",
            "Occupation                     24.000000\n",
            "Annual_Income               23993.500000\n",
            "Monthly_Inhand_Salary       12693.318750\n",
            "Num_Bank_Accounts              13.000000\n",
            "Num_Credit_Card                11.500000\n",
            "Interest_Rate                  34.500000\n",
            "Num_of_Loan                   197.000000\n",
            "Type_of_Loan                 9801.000000\n",
            "Delay_from_due_date            47.500000\n",
            "Num_of_Delayed_Payment        875.000000\n",
            "Changed_Credit_Limit         7140.000000\n",
            "Num_Credit_Inquiries           16.500000\n",
            "Credit_Mix                      4.500000\n",
            "Outstanding_Debt            20672.500000\n",
            "Credit_Utilization_Ratio       48.989263\n",
            "Credit_History_Age            596.000000\n",
            "Payment_of_Min_Amount           3.500000\n",
            "Total_EMI_per_month           391.915904\n",
            "Amount_invested_monthly     75011.500000\n",
            "Payment_Behaviour              12.000000\n",
            "Monthly_Balance             73885.500000\n",
            "dtype: float64\n"
          ]
        }
      ]
    },
    {
      "cell_type": "code",
      "source": [
        "# Menghapus outlier dari data train\n",
        "data_train_filtered = data_train[(data_train >= lower_bound_train) & (data_train <= upper_bound_train)].dropna()\n",
        "\n",
        "# Menghapus outlier dari data test\n",
        "data_test_filtered = data_test[(data_test >= lower_bound_test) & (data_test <= upper_bound_test)].dropna()\n",
        "\n",
        "# Menampilkan beberapa baris pertama data train setelah penghapusan outlier\n",
        "print(\"Data Train setelah penghapusan outlier:\")\n",
        "print(data_train_filtered.head())\n",
        "\n",
        "# Menampilkan beberapa baris pertama data test setelah penghapusan outlier\n",
        "print(\"\\nData Test setelah penghapusan outlier:\")\n",
        "print(data_test_filtered.head())"
      ],
      "metadata": {
        "colab": {
          "base_uri": "https://localhost:8080/"
        },
        "id": "Kn5MNjRdja0a",
        "outputId": "12bac82d-92ba-4b3a-e53f-624974ef2b7c"
      },
      "execution_count": 52,
      "outputs": [
        {
          "output_type": "stream",
          "name": "stdout",
          "text": [
            "Data Train setelah penghapusan outlier:\n",
            "         ID  Customer_ID  Month    Name    Age     SSN  Occupation  \\\n",
            "57  17369.0       4483.0    2.0   711.0  475.0  6253.0        10.0   \n",
            "60  17404.0       4483.0    7.0   711.0  475.0  6253.0        15.0   \n",
            "63  17439.0       4483.0    1.0   711.0  475.0  6253.0        10.0   \n",
            "68  17540.0       3152.0    7.0  1489.0  308.0   903.0         3.0   \n",
            "71  17575.0       3152.0    1.0  1489.0  363.0   903.0         3.0   \n",
            "\n",
            "    Annual_Income  Monthly_Inhand_Salary  Num_Bank_Accounts  ...  Credit_Mix  \\\n",
            "57          10055              2611.1150                8.0  ...         3.0   \n",
            "60          10055              2611.1150                8.0  ...         3.0   \n",
            "63          10055              2611.1150                8.0  ...         3.0   \n",
            "68           1077              9843.8675                2.0  ...         1.0   \n",
            "71           1077              9843.8675                2.0  ...         1.0   \n",
            "\n",
            "    Outstanding_Debt  Credit_Utilization_Ratio  Credit_History_Age  \\\n",
            "57            4201.0                 35.171160                81.0   \n",
            "60            4201.0                 30.206214                74.0   \n",
            "63            4201.0                 33.823488                87.0   \n",
            "68            2666.0                 29.819187               177.0   \n",
            "71            2666.0                 27.813354               170.0   \n",
            "\n",
            "    Payment_of_Min_Amount  Total_EMI_per_month  Amount_invested_monthly  \\\n",
            "57                    2.0            70.478333                  52787.0   \n",
            "60                    2.0            70.478333                  91049.0   \n",
            "63                    2.0            70.478333                  43624.0   \n",
            "68                    1.0           226.892792                  72641.0   \n",
            "71                    1.0           226.892792                  39368.0   \n",
            "\n",
            "    Payment_Behaviour  Monthly_Balance  Credit_Score  \n",
            "57                1.0          62655.0           1.0  \n",
            "60                1.0          63486.0           2.0  \n",
            "63                2.0          65937.0           1.0  \n",
            "68                3.0          57490.0           2.0  \n",
            "71                1.0          90472.0           2.0  \n",
            "\n",
            "[5 rows x 28 columns]\n",
            "\n",
            "Data Test setelah penghapusan outlier:\n",
            "        ID  Customer_ID  Month     Name    Age      SSN  Occupation  \\\n",
            "1   8251.0      12320.0    2.0     84.0  171.0  10205.0        12.0   \n",
            "9   8387.0       1885.0    2.0   4940.0  335.0   6099.0         4.0   \n",
            "10  8394.0       1885.0    1.0  10139.0  335.0   6099.0         4.0   \n",
            "28  8722.0       4483.0    3.0    711.0  258.0   6253.0        10.0   \n",
            "33  8795.0       3152.0    2.0   1489.0  171.0    903.0         3.0   \n",
            "\n",
            "    Annual_Income  Monthly_Inhand_Salary  Num_Bank_Accounts  ...  \\\n",
            "1          5060.0            1824.843333                3.0  ...   \n",
            "9          2359.0           12187.220000                1.0  ...   \n",
            "10         2359.0           12187.220000                1.0  ...   \n",
            "28         8503.0            2611.115000                8.0  ...   \n",
            "33          946.0            9843.867500                2.0  ...   \n",
            "\n",
            "    Num_Credit_Inquiries  Credit_Mix  Outstanding_Debt  \\\n",
            "1                    4.0         1.0           11620.0   \n",
            "9                    3.0         1.0            1977.0   \n",
            "10                   5.0         1.0            1978.0   \n",
            "28                   9.0         3.0            4045.0   \n",
            "33                   8.0         1.0            2558.0   \n",
            "\n",
            "    Credit_Utilization_Ratio  Credit_History_Age  Payment_of_Min_Amount  \\\n",
            "1                  33.053114               172.0                    1.0   \n",
            "9                  35.685836               118.0                    1.0   \n",
            "10                 31.819845               119.0                    1.0   \n",
            "28                 38.477444                79.0                    2.0   \n",
            "33                 29.176392               171.0                    1.0   \n",
            "\n",
            "    Total_EMI_per_month  Amount_invested_monthly  Payment_Behaviour  \\\n",
            "1             49.574949                  16074.0                2.0   \n",
            "9            246.992319                  29399.0                4.0   \n",
            "10           246.992319                  41933.0                5.0   \n",
            "28            70.478333                  23242.0                6.0   \n",
            "33           226.892792                  43607.0                5.0   \n",
            "\n",
            "    Monthly_Balance  \n",
            "1           28581.0  \n",
            "9           46807.0  \n",
            "10          33422.0  \n",
            "28           2499.0  \n",
            "33           1184.0  \n",
            "\n",
            "[5 rows x 27 columns]\n"
          ]
        }
      ]
    },
    {
      "cell_type": "markdown",
      "source": [
        "***Machine Learning Model***"
      ],
      "metadata": {
        "id": "4Naf-AbPlsos"
      }
    },
    {
      "cell_type": "code",
      "source": [
        "# Memilih fitur-fitur yang bukan tipe data integer untuk data train\n",
        "X_train = data_train.drop('Credit_Score',axis=1)\n",
        "y_train = data_train['Credit_Score']\n",
        "\n",
        "# Memilih fitur-fitur yang sama untuk data test\n",
        "X_test = data_test\n",
        "\n",
        "# Membagi data train menjadi data latih dan data validasi\n",
        "X_train, X_valid, y_train, y_valid = train_test_split(X_train, y_train, test_size=0.1, random_state=42)\n",
        "\n",
        "# Membuat Random Forest model\n",
        "rf_model = RandomForestClassifier(n_estimators=100, random_state=42)\n",
        "\n",
        "# Train the model\n",
        "rf_model.fit(X_train, y_train)\n",
        "\n",
        "# Membuat prediksi\n",
        "y_pred_valid_rf = rf_model.predict(X_valid)"
      ],
      "metadata": {
        "id": "IE1WGo6slnow"
      },
      "execution_count": 53,
      "outputs": []
    },
    {
      "cell_type": "markdown",
      "source": [
        "***Evaluasi MSE dan MAE***"
      ],
      "metadata": {
        "id": "Xo_g7Tptnqjl"
      }
    },
    {
      "cell_type": "code",
      "source": [
        "# Evaluasi model\n",
        "accuracy = accuracy_score(y_valid, y_pred_valid_rf)\n",
        "print(\"Accuracy:\", accuracy)\n",
        "\n",
        "# mean squared error (MSE)\n",
        "mse = mean_squared_error(y_valid, y_pred_valid_rf)\n",
        "print(\"Mean Squared Error (MSE):\", mse)\n",
        "\n",
        "# mean absolute error (MAE)\n",
        "mae = mean_absolute_error(y_valid, y_pred_valid_rf)\n",
        "print(\"Mean Absolute Error (MAE):\", mae)"
      ],
      "metadata": {
        "colab": {
          "base_uri": "https://localhost:8080/"
        },
        "id": "pBNWVDX_ne_s",
        "outputId": "36f3d746-05a4-4bd2-c8a5-4e970c374edc"
      },
      "execution_count": 54,
      "outputs": [
        {
          "output_type": "stream",
          "name": "stdout",
          "text": [
            "Accuracy: 0.8457811869196609\n",
            "Mean Squared Error (MSE): 0.1542188130803391\n",
            "Mean Absolute Error (MAE): 0.1542188130803391\n"
          ]
        }
      ]
    },
    {
      "cell_type": "code",
      "source": [
        "from sklearn.ensemble import RandomForestClassifier\n",
        "from sklearn.metrics import confusion_matrix\n",
        "import seaborn as sns\n",
        "import matplotlib.pyplot as plt\n",
        "\n",
        "# Inisialisasi model Random Forest\n",
        "model_rf = RandomForestClassifier()\n",
        "\n",
        "# Melatih model menggunakan data train\n",
        "model_rf.fit(X_train, y_train)\n",
        "\n",
        "# Memprediksi kelas target menggunakan data test\n",
        "y_pred_rf = model_rf.predict(X_test)\n",
        "\n",
        "# Membuat confusion matrix\n",
        "cm = confusion_matrix(y_valid, y_pred_valid_rf)\n",
        "\n",
        "# Visualisasi confusion matrix\n",
        "plt.figure(figsize=(8, 6))\n",
        "sns.heatmap(cm, annot=True, cmap='Blues', fmt='g', xticklabels=['Negatif', 'Positif'], yticklabels=['Negatif', 'Positif'])\n",
        "plt.xlabel('Prediksi')\n",
        "plt.ylabel('Aktual')\n",
        "plt.title('Confusion Matrix')\n",
        "plt.show()\n"
      ],
      "metadata": {
        "colab": {
          "base_uri": "https://localhost:8080/",
          "height": 564
        },
        "id": "wN0XYrH9uaZP",
        "outputId": "62ec4d5b-4c8b-4eb7-c96f-8723af14730e"
      },
      "execution_count": 55,
      "outputs": [
        {
          "output_type": "display_data",
          "data": {
            "text/plain": [
              "<Figure size 800x600 with 2 Axes>"
            ],
            "image/png": "[encoded data removed]"
          },
          "metadata": {}
        }
      ]
    }
  ]
}